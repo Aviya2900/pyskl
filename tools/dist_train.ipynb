{
 "cells": [
  {
   "cell_type": "code",
   "execution_count": 1,
   "metadata": {},
   "outputs": [
    {
     "name": "stdout",
     "output_type": "stream",
     "text": [
      "d:\\Documents\\SEMESTER 8\\EE405 - Undergraduate Project\\pyskl\n"
     ]
    }
   ],
   "source": [
    "%cd .."
   ]
  },
  {
   "cell_type": "code",
   "execution_count": 2,
   "metadata": {},
   "outputs": [],
   "source": [
    "import os\n",
    "import argparse"
   ]
  },
  {
   "cell_type": "code",
   "execution_count": 3,
   "metadata": {},
   "outputs": [
    {
     "name": "stderr",
     "output_type": "stream",
     "text": [
      "usage: ipykernel_launcher.py [-h] [--validate VALIDATE]\n",
      "                             [--test-last TEST_LAST] [--test-best TEST_BEST]\n",
      "                             [--deterministic DETERMINISTIC]\n",
      "                             [--compile COMPILE] [--launcher LAUNCHER]\n",
      "                             [--local_rank LOCAL_RANK]\n",
      "                             [--local-rank LOCAL_RANK]\n",
      "                             config\n",
      "ipykernel_launcher.py: error: the following arguments are required: config\n"
     ]
    },
    {
     "ename": "SystemExit",
     "evalue": "2",
     "output_type": "error",
     "traceback": [
      "An exception has occurred, use %tb to see the full traceback.\n",
      "\u001b[1;31mSystemExit\u001b[0m\u001b[1;31m:\u001b[0m 2\n"
     ]
    },
    {
     "name": "stderr",
     "output_type": "stream",
     "text": [
      "C:\\Users\\avish\\AppData\\Roaming\\Python\\Python311\\site-packages\\IPython\\core\\interactiveshell.py:3585: UserWarning: To exit: use 'exit', 'quit', or Ctrl-D.\n",
      "  warn(\"To exit: use 'exit', 'quit', or Ctrl-D.\", stacklevel=1)\n"
     ]
    }
   ],
   "source": [
    "parser = argparse.ArgumentParser(description='Train a recognizer')\n",
    "parser.add_argument('config', default='./configs/posec3d/slowonly_r50_ntu120_xsub/joint_2P_SAP.py')\n",
    "parser.add_argument('--validate', default=True)\n",
    "parser.add_argument('--test-last', default=True)\n",
    "parser.add_argument('--test-best', default=True)\n",
    "parser.add_argument('--deterministic', default=True)\n",
    "parser.add_argument('--compile', default=True)\n",
    "parser.add_argument('--launcher', default='pytorch')\n",
    "parser.add_argument('--local_rank', type=int, default=-1)\n",
    "parser.add_argument('--local-rank', type=int, default=-1)\n",
    "args = parser.parse_args()\n",
    "if 'LOCAL_RANK' not in os.environ: os.environ['LOCAL_RANK'] = str(args.local_rank)\n"
   ]
  },
  {
   "cell_type": "code",
   "execution_count": null,
   "metadata": {},
   "outputs": [],
   "source": []
  }
 ],
 "metadata": {
  "kernelspec": {
   "display_name": "Python 3",
   "language": "python",
   "name": "python3"
  },
  "language_info": {
   "codemirror_mode": {
    "name": "ipython",
    "version": 3
   },
   "file_extension": ".py",
   "mimetype": "text/x-python",
   "name": "python",
   "nbconvert_exporter": "python",
   "pygments_lexer": "ipython3",
   "version": "3.11.4"
  }
 },
 "nbformat": 4,
 "nbformat_minor": 2
}
