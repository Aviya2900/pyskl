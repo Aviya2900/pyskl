{
 "cells": [
  {
   "cell_type": "code",
   "execution_count": 1,
   "metadata": {},
   "outputs": [
    {
     "name": "stdout",
     "output_type": "stream",
     "text": [
      "D:\\Documents\\Research\\pyskl\n"
     ]
    }
   ],
   "source": [
    "%cd D:/Documents/Research/pyskl/"
   ]
  },
  {
   "cell_type": "code",
   "execution_count": 2,
   "metadata": {},
   "outputs": [
    {
     "data": {
      "text/plain": [
       "dict_keys(['xsub_train', 'xsub_val', 'xset_train', 'xset_val', 'xsub_val_2p', 'xsub_train_2p', 'xset_train_2p', 'xset_val_2p'])"
      ]
     },
     "execution_count": 2,
     "metadata": {},
     "output_type": "execute_result"
    }
   ],
   "source": [
    "import pickle # Load the pickle file\n",
    "\n",
    "data60 = './data/nturgbd/ntu120_hrnet.pkl'\n",
    "data120 = './data/nturgbd/ntu120_hrnet.pkl'\n",
    "\n",
    "dataset = data60\n",
    "with open(dataset, 'rb') as file:\n",
    "    data = pickle.load(file)\n",
    "\n",
    "data['split'].keys()"
   ]
  },
  {
   "cell_type": "code",
   "execution_count": null,
   "metadata": {},
   "outputs": [],
   "source": [
    "lst = [50, 51, 52, 53, 54, 55, 56, 57, 58, 59, 60, 106, 107, 108, 109, 110, 111, 112, 113, 114, 115, 116, 117, 118, 119, 120]"
   ]
  },
  {
   "cell_type": "code",
   "execution_count": null,
   "metadata": {},
   "outputs": [
    {
     "name": "stderr",
     "output_type": "stream",
     "text": [
      "100%|██████████| 56568/56568 [00:00<00:00, 431887.40it/s]\n"
     ]
    }
   ],
   "source": [
    "from tqdm import tqdm\n",
    "\n",
    "train_set = set(data['split']['xview_train'])\n",
    "val_set = set(data['split']['xview_val'])\n",
    "\n",
    "set_train, set_val = [], []\n",
    "lst_set = set(lst)\n",
    "\n",
    "for item in tqdm(data['annotations'], dynamic_ncols=True):\n",
    "    frame_dir = item['frame_dir']\n",
    "    frame_code = int(frame_dir[-3:])\n",
    "    if frame_code in lst_set:\n",
    "        if frame_dir in train_set:\n",
    "            set_train.append(frame_dir)\n",
    "        elif frame_dir in val_set:\n",
    "            set_val.append(frame_dir)\n",
    "            \n",
    "data['split']['xview_train_2p'] = set_train\n",
    "data['split']['xview_val_2p'] = set_val\n"
   ]
  },
  {
   "cell_type": "code",
   "execution_count": null,
   "metadata": {},
   "outputs": [],
   "source": [
    "train_set = set(data['split']['xsub_train'])\n",
    "val_set = set(data['split']['xsub_val'])\n",
    "\n",
    "set_train, set_val = [], []\n",
    "lst_set = set(lst)\n",
    "\n",
    "for item in tqdm(data['annotations'], dynamic_ncols=True):\n",
    "    frame_dir = item['frame_dir']\n",
    "    frame_code = int(frame_dir[-3:])\n",
    "    if frame_code in lst_set:\n",
    "        if frame_dir in train_set: set_train.append(frame_dir)\n",
    "        elif frame_dir in val_set: set_val.append(frame_dir)\n",
    "            \n",
    "data['split']['xsub_train_2p'] = set_train\n",
    "data['split']['xsub_val_2p'] = set_val"
   ]
  },
  {
   "cell_type": "code",
   "execution_count": null,
   "metadata": {},
   "outputs": [],
   "source": [
    "# Save to a pickle file\n",
    "with open(dataset, 'wb') as file:\n",
    "    pickle.dump(data, file)"
   ]
  }
 ],
 "metadata": {
  "kernelspec": {
   "display_name": "Python 3",
   "language": "python",
   "name": "python3"
  },
  "language_info": {
   "codemirror_mode": {
    "name": "ipython",
    "version": 3
   },
   "file_extension": ".py",
   "mimetype": "text/x-python",
   "name": "python",
   "nbconvert_exporter": "python",
   "pygments_lexer": "ipython3",
   "version": "3.11.4"
  }
 },
 "nbformat": 4,
 "nbformat_minor": 2
}
